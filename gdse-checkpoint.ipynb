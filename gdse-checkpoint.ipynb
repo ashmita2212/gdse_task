{
 "cells": [
  {
   "cell_type": "code",
   "execution_count": 103,
   "id": "94cbe851-6e34-401e-aa4e-e021323fbf1d",
   "metadata": {},
   "outputs": [],
   "source": [
    "import pandas as pd\n",
    "import numpy as np\n",
    "from sklearn.feature_extraction.text import TfidfVectorizer\n",
    "from sklearn.metrics.pairwise import cosine_similarity\n",
    "from surprise import Dataset, Reader, SVD\n",
    "from surprise.model_selection import cross_validate\n",
    "import nltk\n",
    "from nltk.tokenize import word_tokenize\n",
    "from nltk.corpus import stopwords\n",
    "\n",
    "# # Download necessary NLP resources\n",
    "# nltk.download('punkt')\n",
    "# nltk.download('stopwords')\n"
   ]
  },
  {
   "cell_type": "code",
   "execution_count": 104,
   "id": "dbdb3aa8-2f7c-4428-9a2a-032ae61fb0c4",
   "metadata": {},
   "outputs": [],
   "source": [
    "\n",
    "# 📌 Load the dataset (replace 'jobs.csv' with actual file path)\n",
    "df = pd.read_csv('Downloads/jobs.csv')"
   ]
  },
  {
   "cell_type": "code",
   "execution_count": 105,
   "id": "38164aad-e26f-4b2e-9179-a9239716def3",
   "metadata": {},
   "outputs": [
    {
     "data": {
      "text/html": [
       "<div>\n",
       "<style scoped>\n",
       "    .dataframe tbody tr th:only-of-type {\n",
       "        vertical-align: middle;\n",
       "    }\n",
       "\n",
       "    .dataframe tbody tr th {\n",
       "        vertical-align: top;\n",
       "    }\n",
       "\n",
       "    .dataframe thead th {\n",
       "        text-align: right;\n",
       "    }\n",
       "</style>\n",
       "<table border=\"1\" class=\"dataframe\">\n",
       "  <thead>\n",
       "    <tr style=\"text-align: right;\">\n",
       "      <th></th>\n",
       "      <th>Unnamed: 0</th>\n",
       "      <th>Job Salary</th>\n",
       "      <th>Job Experience Required</th>\n",
       "      <th>Key Skills</th>\n",
       "      <th>Role Category</th>\n",
       "      <th>Functional Area</th>\n",
       "      <th>Industry</th>\n",
       "      <th>Job Title</th>\n",
       "    </tr>\n",
       "  </thead>\n",
       "  <tbody>\n",
       "    <tr>\n",
       "      <th>0</th>\n",
       "      <td>0</td>\n",
       "      <td>Not Disclosed by Recruiter</td>\n",
       "      <td>5 - 10 yrs</td>\n",
       "      <td>Media Planning| Digital Media</td>\n",
       "      <td>Advertising</td>\n",
       "      <td>Marketing , Advertising , MR , PR , Media Plan...</td>\n",
       "      <td>Advertising, PR, MR, Event Management</td>\n",
       "      <td>Media Planning Executive/Manager</td>\n",
       "    </tr>\n",
       "    <tr>\n",
       "      <th>1</th>\n",
       "      <td>1</td>\n",
       "      <td>Not Disclosed by Recruiter</td>\n",
       "      <td>2 - 5 yrs</td>\n",
       "      <td>pre sales| closing| software knowledge| clien...</td>\n",
       "      <td>Retail Sales</td>\n",
       "      <td>Sales , Retail , Business Development</td>\n",
       "      <td>IT-Software, Software Services</td>\n",
       "      <td>Sales Executive/Officer</td>\n",
       "    </tr>\n",
       "    <tr>\n",
       "      <th>2</th>\n",
       "      <td>2</td>\n",
       "      <td>Not Disclosed by Recruiter</td>\n",
       "      <td>0 - 1 yrs</td>\n",
       "      <td>Computer science| Fabrication| Quality check|...</td>\n",
       "      <td>R&amp;D</td>\n",
       "      <td>Engineering Design , R&amp;D</td>\n",
       "      <td>Recruitment, Staffing</td>\n",
       "      <td>R&amp;D Executive</td>\n",
       "    </tr>\n",
       "    <tr>\n",
       "      <th>3</th>\n",
       "      <td>3</td>\n",
       "      <td>2,00,000 - 4,00,000 PA.</td>\n",
       "      <td>0 - 5 yrs</td>\n",
       "      <td>Technical Support</td>\n",
       "      <td>Admin/Maintenance/Security/Datawarehousing</td>\n",
       "      <td>IT Software - Application Programming , Mainte...</td>\n",
       "      <td>IT-Software, Software Services</td>\n",
       "      <td>Technical Support Engineer</td>\n",
       "    </tr>\n",
       "    <tr>\n",
       "      <th>4</th>\n",
       "      <td>4</td>\n",
       "      <td>Not Disclosed by Recruiter</td>\n",
       "      <td>2 - 5 yrs</td>\n",
       "      <td>manual testing| test engineering| test cases|...</td>\n",
       "      <td>Programming &amp; Design</td>\n",
       "      <td>IT Software - QA &amp; Testing</td>\n",
       "      <td>IT-Software, Software Services</td>\n",
       "      <td>Testing Engineer</td>\n",
       "    </tr>\n",
       "  </tbody>\n",
       "</table>\n",
       "</div>"
      ],
      "text/plain": [
       "   Unnamed: 0                    Job Salary Job Experience Required  \\\n",
       "0           0   Not Disclosed by Recruiter               5 - 10 yrs   \n",
       "1           1   Not Disclosed by Recruiter                2 - 5 yrs   \n",
       "2           2   Not Disclosed by Recruiter                0 - 1 yrs   \n",
       "3           3       2,00,000 - 4,00,000 PA.               0 - 5 yrs   \n",
       "4           4   Not Disclosed by Recruiter                2 - 5 yrs   \n",
       "\n",
       "                                          Key Skills  \\\n",
       "0                      Media Planning| Digital Media   \n",
       "1   pre sales| closing| software knowledge| clien...   \n",
       "2   Computer science| Fabrication| Quality check|...   \n",
       "3                                  Technical Support   \n",
       "4   manual testing| test engineering| test cases|...   \n",
       "\n",
       "                                Role Category  \\\n",
       "0                                 Advertising   \n",
       "1                                Retail Sales   \n",
       "2                                         R&D   \n",
       "3  Admin/Maintenance/Security/Datawarehousing   \n",
       "4                        Programming & Design   \n",
       "\n",
       "                                     Functional Area  \\\n",
       "0  Marketing , Advertising , MR , PR , Media Plan...   \n",
       "1              Sales , Retail , Business Development   \n",
       "2                           Engineering Design , R&D   \n",
       "3  IT Software - Application Programming , Mainte...   \n",
       "4                         IT Software - QA & Testing   \n",
       "\n",
       "                                Industry                         Job Title  \n",
       "0  Advertising, PR, MR, Event Management  Media Planning Executive/Manager  \n",
       "1         IT-Software, Software Services           Sales Executive/Officer  \n",
       "2                  Recruitment, Staffing                     R&D Executive  \n",
       "3         IT-Software, Software Services        Technical Support Engineer  \n",
       "4         IT-Software, Software Services                  Testing Engineer  "
      ]
     },
     "execution_count": 105,
     "metadata": {},
     "output_type": "execute_result"
    }
   ],
   "source": [
    "df.head()\n"
   ]
  },
  {
   "cell_type": "code",
   "execution_count": 106,
   "id": "9c3d3350-73bc-4a33-b9db-48871d11be5d",
   "metadata": {},
   "outputs": [],
   "source": [
    "\n",
    "# 📌 Data Preprocessing\n",
    "# Drop the Unnamed column (likely the index column)\n",
    "df = df.drop(columns=['Unnamed: 0'])\n",
    "\n",
    "# Replace 'Not Disclosed by Recruiter' with NaN and then handle it\n",
    "df['Job Salary'] = df['Job Salary'].replace('Not Disclosed by Recruiter', '0')\n",
    "\n",
    "# Remove commas from salary and convert to numeric\n",
    "df['Job Salary'] = df['Job Salary'].replace(',', '', regex=True)\n",
    "df['Job Salary'] = pd.to_numeric(df['Job Salary'], errors='coerce').fillna(0)\n",
    "\n",
    "# Fill missing values in 'Job Title' and 'Key Skills'\n",
    "df = df[['Job Title', 'Key Skills']].fillna('')\n",
    "\n",
    "# Create a 'content' column by combining 'Job Title' and 'Key Skills'\n",
    "df['content'] = df['Job Title'] + ' ' + df['Key Skills']\n"
   ]
  },
  {
   "cell_type": "code",
   "execution_count": null,
   "id": "6b40eb38-b1bb-4da1-9b1e-fc9a3699454f",
   "metadata": {},
   "outputs": [],
   "source": []
  },
  {
   "cell_type": "code",
   "execution_count": 107,
   "id": "c6fd0ef2-e2a4-49dd-b797-f7569ba28c8b",
   "metadata": {},
   "outputs": [],
   "source": [
    "\n",
    "# 🔹 (A) Content-Based Filtering (CBF)\n",
    "vectorizer = TfidfVectorizer(stop_words='english')\n",
    "tfidf_matrix = vectorizer.fit_transform(df['content'])\n",
    "cosine_sim = cosine_similarity(tfidf_matrix, tfidf_matrix)"
   ]
  },
  {
   "cell_type": "code",
   "execution_count": 108,
   "id": "176c08ff-89b7-406b-bdd3-4cd42aaf2aa8",
   "metadata": {},
   "outputs": [],
   "source": [
    "\n",
    "# Recommendation function using CBF\n",
    "def recommend_jobs(job_title, top_n=5):\n",
    "    idx = df[df['Job Title'].str.contains(job_title, case=False, na=False)].index[0]\n",
    "    sim_scores = list(enumerate(cosine_sim[idx]))\n",
    "    sim_scores = sorted(sim_scores, key=lambda x: x[1], reverse=True)[1:top_n+1]\n",
    "    job_indices = [i[0] for i in sim_scores]\n",
    "    return df.iloc[job_indices][['Job Title', 'Key Skills', 'content']] \n",
    "\n",
    "\n",
    "# # 🔹 Content-Based Filtering (CBF) function (without 'Job Salary')\n",
    "# def recommend_jobs(job_title, top_n=5):\n",
    "#     idx = df[df['Job Title'].str.contains(job_title, case=False, na=False)].index[0]\n",
    "#     sim_scores = list(enumerate(cosine_sim[idx]))\n",
    "#     sim_scores = sorted(sim_scores, key=lambda x: x[1], reverse=True)[1:top_n+1]\n",
    "#     job_indices = [i[0] for i in sim_scores]\n",
    "    \n",
    "#     # Returning only the available columns\n",
    "#     return df.iloc[job_indices][['Job Title', 'Key Skills']]\n",
    "\n"
   ]
  },
  {
   "cell_type": "code",
   "execution_count": 109,
   "id": "3de634fe-5ee3-4403-ab67-5c39bd69d05c",
   "metadata": {},
   "outputs": [],
   "source": [
    "\n",
    "# 🔹 (B) Collaborative Filtering (CF)\n",
    "# Fake user-job interaction dataset\n",
    "ratings_dict = {\n",
    "    \"user_id\": [1, 1, 1, 2, 2, 3, 3, 4],\n",
    "    \"job_id\": [101, 102, 103, 101, 104, 102, 105, 103],\n",
    "    \"rating\": [5, 4, 3, 5, 2, 4, 3, 5]\n",
    "}\n",
    "ratings = pd.DataFrame(ratings_dict)\n",
    "\n",
    "reader = Reader(rating_scale=(1, 5))\n",
    "data = Dataset.load_from_df(ratings[['user_id', 'job_id', 'rating']], reader)\n"
   ]
  },
  {
   "cell_type": "code",
   "execution_count": 110,
   "id": "9a2d8c49-f630-412e-b89b-163d7a1009bd",
   "metadata": {},
   "outputs": [
    {
     "data": {
      "text/plain": [
       "<surprise.prediction_algorithms.matrix_factorization.SVD at 0x22735534d10>"
      ]
     },
     "execution_count": 110,
     "metadata": {},
     "output_type": "execute_result"
    }
   ],
   "source": [
    "\n",
    "# Use SVD for Matrix Factorization\n",
    "model = SVD()\n",
    "cross_validate(model, data, cv=3)\n",
    "\n",
    "trainset = data.build_full_trainset()\n",
    "model.fit(trainset)\n"
   ]
  },
  {
   "cell_type": "code",
   "execution_count": 111,
   "id": "55f3ed02-de70-4324-aacf-4219071825e1",
   "metadata": {},
   "outputs": [
    {
     "name": "stdout",
     "output_type": "stream",
     "text": [
      "Index(['Job Title', 'Key Skills', 'content'], dtype='object')\n"
     ]
    }
   ],
   "source": [
    "print(df.columns)\n"
   ]
  },
  {
   "cell_type": "code",
   "execution_count": 112,
   "id": "5076d1f9-394b-459e-9268-deceb1db2590",
   "metadata": {},
   "outputs": [],
   "source": [
    "\n",
    "# Predict job rating for a user\n",
    "def predict_job_rating(user_id, job_id):\n",
    "    return model.predict(user_id, job_id).est\n",
    "\n",
    "# 🔹 (C) Hybrid Filtering (Weighted Combination of CBF & CF)\n",
    "def hybrid_recommendation(user_id, job_title, top_n=5):\n",
    "    cbf_jobs = recommend_jobs(job_title, top_n=top_n).reset_index()\n",
    "    \n",
    "    cbf_jobs['Predicted Rating'] = cbf_jobs.index.map(lambda i: predict_job_rating(user_id, i))\n",
    "    \n",
    "    # Weighted combination of CF & CBF (50% weight each)\n",
    "    cbf_jobs['Final Score'] = (0.5 * cbf_jobs['Predicted Rating']) + (0.5 * (cbf_jobs.index / top_n))\n",
    "    return cbf_jobs.sort_values(by='Final Score', ascending=False)[['Job Title', 'Key Skills', 'Predicted Rating']]\n"
   ]
  },
  {
   "cell_type": "code",
   "execution_count": 113,
   "id": "8a2bb72c-1b98-49c8-8530-3477cb9fd2cb",
   "metadata": {},
   "outputs": [
    {
     "name": "stdout",
     "output_type": "stream",
     "text": [
      "📌 Content-Based Recommendations:\n",
      "                                               Job Title  \\\n",
      "20127  Roles and responsibilities  Functional Respons...   \n",
      "9593                                        Data Analyst   \n",
      "4763   DESIGNATION  - Associate Manager- P&S DOMAIN K...   \n",
      "14335         Associate/Senior Associate -(NonTechnical)   \n",
      "25776                                       Data Analyst   \n",
      "\n",
      "                                              Key Skills  \\\n",
      "20127  Project Management|Excel Powerpoint|Time Serie...   \n",
      "9593    Machine Learning| Data Mining| Big Data| Data...   \n",
      "4763   sales|rfis|rfps|presales|solution consulting|t...   \n",
      "14335   Risk management| SAS| Consulting| Financial s...   \n",
      "25776   Presentation Skills| Business Solutions| Proc...   \n",
      "\n",
      "                                                 content  \n",
      "20127  Roles and responsibilities  Functional Respons...  \n",
      "9593   Data Analyst  Machine Learning| Data Mining| B...  \n",
      "4763   DESIGNATION  - Associate Manager- P&S DOMAIN K...  \n",
      "14335  Associate/Senior Associate -(NonTechnical)  Ri...  \n",
      "25776  Data Analyst  Presentation Skills| Business So...  \n",
      "\n",
      "📌 Hybrid Recommendations for User 1:\n",
      "                                           Job Title  \\\n",
      "4                                       Data Analyst   \n",
      "3         Associate/Senior Associate -(NonTechnical)   \n",
      "2  DESIGNATION  - Associate Manager- P&S DOMAIN K...   \n",
      "1                                       Data Analyst   \n",
      "0  Roles and responsibilities  Functional Respons...   \n",
      "\n",
      "                                          Key Skills  Predicted Rating  \n",
      "4   Presentation Skills| Business Solutions| Proc...          3.898418  \n",
      "3   Risk management| SAS| Consulting| Financial s...          3.898418  \n",
      "2  sales|rfis|rfps|presales|solution consulting|t...          3.898418  \n",
      "1   Machine Learning| Data Mining| Big Data| Data...          3.898418  \n",
      "0  Project Management|Excel Powerpoint|Time Serie...          3.898418  \n"
     ]
    }
   ],
   "source": [
    "\n",
    "# 🔹 Example Usage:\n",
    "print(\"📌 Content-Based Recommendations:\")\n",
    "print(recommend_jobs(\"Data Scientist\"))\n",
    "\n",
    "print(\"\\n📌 Hybrid Recommendations for User 1:\")\n",
    "print(hybrid_recommendation(1, \"Data Scientist\"))"
   ]
  },
  {
   "cell_type": "code",
   "execution_count": null,
   "id": "b834dfef-30f8-454b-9725-cef613bfb18a",
   "metadata": {},
   "outputs": [],
   "source": []
  },
  {
   "cell_type": "code",
   "execution_count": null,
   "id": "b9e7769f-77cb-4d1e-a946-4f6e00647d7d",
   "metadata": {},
   "outputs": [],
   "source": []
  }
 ],
 "metadata": {
  "kernelspec": {
   "display_name": "Python [conda env:base] *",
   "language": "python",
   "name": "conda-base-py"
  },
  "language_info": {
   "codemirror_mode": {
    "name": "ipython",
    "version": 3
   },
   "file_extension": ".py",
   "mimetype": "text/x-python",
   "name": "python",
   "nbconvert_exporter": "python",
   "pygments_lexer": "ipython3",
   "version": "3.12.7"
  }
 },
 "nbformat": 4,
 "nbformat_minor": 5
}
