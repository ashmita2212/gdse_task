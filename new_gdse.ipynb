import pandas as pd
import numpy as np
from sklearn.feature_extraction.text import TfidfVectorizer
from sklearn.metrics.pairwise import cosine_similarity
from surprise import Dataset, Reader, SVD
from surprise.model_selection import cross_validate
import nltk
from nltk.tokenize import word_tokenize
from nltk.corpus import stopwords
